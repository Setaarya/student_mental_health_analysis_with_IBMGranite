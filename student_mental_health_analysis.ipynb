{
  "nbformat": 4,
  "nbformat_minor": 0,
  "metadata": {
    "colab": {
      "provenance": []
    },
    "kernelspec": {
      "name": "python3",
      "display_name": "Python 3"
    },
    "language_info": {
      "name": "python"
    }
  },
  "cells": [
    {
      "cell_type": "markdown",
      "source": [
        "# LOAD DATA"
      ],
      "metadata": {
        "id": "RzS_CufaNHSt"
      }
    },
    {
      "cell_type": "code",
      "execution_count": 1,
      "metadata": {
        "id": "Wf15SS-M2GRN",
        "colab": {
          "base_uri": "https://localhost:8080/",
          "height": 90
        },
        "outputId": "1f222fca-693b-40f7-a062-ae2cbf442e50"
      },
      "outputs": [
        {
          "output_type": "display_data",
          "data": {
            "text/plain": [
              "<IPython.core.display.HTML object>"
            ],
            "text/html": [
              "\n",
              "     <input type=\"file\" id=\"files-f5a5b5de-c46d-43b5-ab7a-276a54caf944\" name=\"files[]\" multiple disabled\n",
              "        style=\"border:none\" />\n",
              "     <output id=\"result-f5a5b5de-c46d-43b5-ab7a-276a54caf944\">\n",
              "      Upload widget is only available when the cell has been executed in the\n",
              "      current browser session. Please rerun this cell to enable.\n",
              "      </output>\n",
              "      <script>// Copyright 2017 Google LLC\n",
              "//\n",
              "// Licensed under the Apache License, Version 2.0 (the \"License\");\n",
              "// you may not use this file except in compliance with the License.\n",
              "// You may obtain a copy of the License at\n",
              "//\n",
              "//      http://www.apache.org/licenses/LICENSE-2.0\n",
              "//\n",
              "// Unless required by applicable law or agreed to in writing, software\n",
              "// distributed under the License is distributed on an \"AS IS\" BASIS,\n",
              "// WITHOUT WARRANTIES OR CONDITIONS OF ANY KIND, either express or implied.\n",
              "// See the License for the specific language governing permissions and\n",
              "// limitations under the License.\n",
              "\n",
              "/**\n",
              " * @fileoverview Helpers for google.colab Python module.\n",
              " */\n",
              "(function(scope) {\n",
              "function span(text, styleAttributes = {}) {\n",
              "  const element = document.createElement('span');\n",
              "  element.textContent = text;\n",
              "  for (const key of Object.keys(styleAttributes)) {\n",
              "    element.style[key] = styleAttributes[key];\n",
              "  }\n",
              "  return element;\n",
              "}\n",
              "\n",
              "// Max number of bytes which will be uploaded at a time.\n",
              "const MAX_PAYLOAD_SIZE = 100 * 1024;\n",
              "\n",
              "function _uploadFiles(inputId, outputId) {\n",
              "  const steps = uploadFilesStep(inputId, outputId);\n",
              "  const outputElement = document.getElementById(outputId);\n",
              "  // Cache steps on the outputElement to make it available for the next call\n",
              "  // to uploadFilesContinue from Python.\n",
              "  outputElement.steps = steps;\n",
              "\n",
              "  return _uploadFilesContinue(outputId);\n",
              "}\n",
              "\n",
              "// This is roughly an async generator (not supported in the browser yet),\n",
              "// where there are multiple asynchronous steps and the Python side is going\n",
              "// to poll for completion of each step.\n",
              "// This uses a Promise to block the python side on completion of each step,\n",
              "// then passes the result of the previous step as the input to the next step.\n",
              "function _uploadFilesContinue(outputId) {\n",
              "  const outputElement = document.getElementById(outputId);\n",
              "  const steps = outputElement.steps;\n",
              "\n",
              "  const next = steps.next(outputElement.lastPromiseValue);\n",
              "  return Promise.resolve(next.value.promise).then((value) => {\n",
              "    // Cache the last promise value to make it available to the next\n",
              "    // step of the generator.\n",
              "    outputElement.lastPromiseValue = value;\n",
              "    return next.value.response;\n",
              "  });\n",
              "}\n",
              "\n",
              "/**\n",
              " * Generator function which is called between each async step of the upload\n",
              " * process.\n",
              " * @param {string} inputId Element ID of the input file picker element.\n",
              " * @param {string} outputId Element ID of the output display.\n",
              " * @return {!Iterable<!Object>} Iterable of next steps.\n",
              " */\n",
              "function* uploadFilesStep(inputId, outputId) {\n",
              "  const inputElement = document.getElementById(inputId);\n",
              "  inputElement.disabled = false;\n",
              "\n",
              "  const outputElement = document.getElementById(outputId);\n",
              "  outputElement.innerHTML = '';\n",
              "\n",
              "  const pickedPromise = new Promise((resolve) => {\n",
              "    inputElement.addEventListener('change', (e) => {\n",
              "      resolve(e.target.files);\n",
              "    });\n",
              "  });\n",
              "\n",
              "  const cancel = document.createElement('button');\n",
              "  inputElement.parentElement.appendChild(cancel);\n",
              "  cancel.textContent = 'Cancel upload';\n",
              "  const cancelPromise = new Promise((resolve) => {\n",
              "    cancel.onclick = () => {\n",
              "      resolve(null);\n",
              "    };\n",
              "  });\n",
              "\n",
              "  // Wait for the user to pick the files.\n",
              "  const files = yield {\n",
              "    promise: Promise.race([pickedPromise, cancelPromise]),\n",
              "    response: {\n",
              "      action: 'starting',\n",
              "    }\n",
              "  };\n",
              "\n",
              "  cancel.remove();\n",
              "\n",
              "  // Disable the input element since further picks are not allowed.\n",
              "  inputElement.disabled = true;\n",
              "\n",
              "  if (!files) {\n",
              "    return {\n",
              "      response: {\n",
              "        action: 'complete',\n",
              "      }\n",
              "    };\n",
              "  }\n",
              "\n",
              "  for (const file of files) {\n",
              "    const li = document.createElement('li');\n",
              "    li.append(span(file.name, {fontWeight: 'bold'}));\n",
              "    li.append(span(\n",
              "        `(${file.type || 'n/a'}) - ${file.size} bytes, ` +\n",
              "        `last modified: ${\n",
              "            file.lastModifiedDate ? file.lastModifiedDate.toLocaleDateString() :\n",
              "                                    'n/a'} - `));\n",
              "    const percent = span('0% done');\n",
              "    li.appendChild(percent);\n",
              "\n",
              "    outputElement.appendChild(li);\n",
              "\n",
              "    const fileDataPromise = new Promise((resolve) => {\n",
              "      const reader = new FileReader();\n",
              "      reader.onload = (e) => {\n",
              "        resolve(e.target.result);\n",
              "      };\n",
              "      reader.readAsArrayBuffer(file);\n",
              "    });\n",
              "    // Wait for the data to be ready.\n",
              "    let fileData = yield {\n",
              "      promise: fileDataPromise,\n",
              "      response: {\n",
              "        action: 'continue',\n",
              "      }\n",
              "    };\n",
              "\n",
              "    // Use a chunked sending to avoid message size limits. See b/62115660.\n",
              "    let position = 0;\n",
              "    do {\n",
              "      const length = Math.min(fileData.byteLength - position, MAX_PAYLOAD_SIZE);\n",
              "      const chunk = new Uint8Array(fileData, position, length);\n",
              "      position += length;\n",
              "\n",
              "      const base64 = btoa(String.fromCharCode.apply(null, chunk));\n",
              "      yield {\n",
              "        response: {\n",
              "          action: 'append',\n",
              "          file: file.name,\n",
              "          data: base64,\n",
              "        },\n",
              "      };\n",
              "\n",
              "      let percentDone = fileData.byteLength === 0 ?\n",
              "          100 :\n",
              "          Math.round((position / fileData.byteLength) * 100);\n",
              "      percent.textContent = `${percentDone}% done`;\n",
              "\n",
              "    } while (position < fileData.byteLength);\n",
              "  }\n",
              "\n",
              "  // All done.\n",
              "  yield {\n",
              "    response: {\n",
              "      action: 'complete',\n",
              "    }\n",
              "  };\n",
              "}\n",
              "\n",
              "scope.google = scope.google || {};\n",
              "scope.google.colab = scope.google.colab || {};\n",
              "scope.google.colab._files = {\n",
              "  _uploadFiles,\n",
              "  _uploadFilesContinue,\n",
              "};\n",
              "})(self);\n",
              "</script> "
            ]
          },
          "metadata": {}
        },
        {
          "output_type": "stream",
          "name": "stdout",
          "text": [
            "Saving kaggle.json to kaggle.json\n"
          ]
        },
        {
          "output_type": "execute_result",
          "data": {
            "text/plain": [
              "{'kaggle.json': b'{\"username\":\"yuliantoaryaseta\",\"key\":\"a6fa6b69246c8dc275ec2b3c6594245c\"}'}"
            ]
          },
          "metadata": {},
          "execution_count": 1
        }
      ],
      "source": [
        "from google.colab import files\n",
        "files.upload()  # Upload kaggle.json di sini"
      ]
    },
    {
      "cell_type": "markdown",
      "source": [
        "## Data"
      ],
      "metadata": {
        "id": "SRR3q0chNceA"
      }
    },
    {
      "cell_type": "code",
      "source": [
        "# Persiapan kredensial Kaggle\n",
        "!mkdir -p ~/.kaggle\n",
        "!cp kaggle.json ~/.kaggle/\n",
        "!chmod 600 ~/.kaggle/kaggle.json\n",
        "\n",
        "# Download and unzip the dataset from Kaggle\n",
        "!kaggle datasets download -d utkarshsharma11r/student-mental-health-analysis -p /content/datasets --unzip"
      ],
      "metadata": {
        "colab": {
          "base_uri": "https://localhost:8080/"
        },
        "id": "RJbbNdvxNVWy",
        "outputId": "836ba89a-bc6d-4d2e-ee09-2e39e2ce498c"
      },
      "execution_count": 2,
      "outputs": [
        {
          "output_type": "stream",
          "name": "stdout",
          "text": [
            "Dataset URL: https://www.kaggle.com/datasets/utkarshsharma11r/student-mental-health-analysis\n",
            "License(s): CC0-1.0\n",
            "Downloading student-mental-health-analysis.zip to /content/datasets\n",
            "  0% 0.00/10.5k [00:00<?, ?B/s]\n",
            "100% 10.5k/10.5k [00:00<00:00, 44.9MB/s]\n"
          ]
        }
      ]
    },
    {
      "cell_type": "markdown",
      "source": [
        "# IMPORT LIBRARY"
      ],
      "metadata": {
        "id": "Fo3IaNMrOUVT"
      }
    },
    {
      "cell_type": "code",
      "source": [
        "!pip install langchain_community\n",
        "!pip install replicate\n",
        "import pandas as pd\n",
        "import os\n",
        "import seaborn as sns\n",
        "import matplotlib.pyplot as plt"
      ],
      "metadata": {
        "id": "-26lI6bjOabE",
        "colab": {
          "base_uri": "https://localhost:8080/"
        },
        "outputId": "f4eba5e2-aa0b-4795-ebd9-f21a0fe4e532"
      },
      "execution_count": 82,
      "outputs": [
        {
          "output_type": "stream",
          "name": "stdout",
          "text": [
            "Requirement already satisfied: langchain_community in /usr/local/lib/python3.11/dist-packages (0.3.24)\n",
            "Requirement already satisfied: langchain-core<1.0.0,>=0.3.59 in /usr/local/lib/python3.11/dist-packages (from langchain_community) (0.3.59)\n",
            "Requirement already satisfied: langchain<1.0.0,>=0.3.25 in /usr/local/lib/python3.11/dist-packages (from langchain_community) (0.3.25)\n",
            "Requirement already satisfied: SQLAlchemy<3,>=1.4 in /usr/local/lib/python3.11/dist-packages (from langchain_community) (2.0.40)\n",
            "Requirement already satisfied: requests<3,>=2 in /usr/local/lib/python3.11/dist-packages (from langchain_community) (2.32.3)\n",
            "Requirement already satisfied: PyYAML>=5.3 in /usr/local/lib/python3.11/dist-packages (from langchain_community) (6.0.2)\n",
            "Requirement already satisfied: aiohttp<4.0.0,>=3.8.3 in /usr/local/lib/python3.11/dist-packages (from langchain_community) (3.11.15)\n",
            "Requirement already satisfied: tenacity!=8.4.0,<10,>=8.1.0 in /usr/local/lib/python3.11/dist-packages (from langchain_community) (9.1.2)\n",
            "Requirement already satisfied: dataclasses-json<0.7,>=0.5.7 in /usr/local/lib/python3.11/dist-packages (from langchain_community) (0.6.7)\n",
            "Requirement already satisfied: pydantic-settings<3.0.0,>=2.4.0 in /usr/local/lib/python3.11/dist-packages (from langchain_community) (2.9.1)\n",
            "Requirement already satisfied: langsmith<0.4,>=0.1.125 in /usr/local/lib/python3.11/dist-packages (from langchain_community) (0.3.42)\n",
            "Requirement already satisfied: httpx-sse<1.0.0,>=0.4.0 in /usr/local/lib/python3.11/dist-packages (from langchain_community) (0.4.0)\n",
            "Requirement already satisfied: numpy>=1.26.2 in /usr/local/lib/python3.11/dist-packages (from langchain_community) (2.0.2)\n",
            "Requirement already satisfied: aiohappyeyeballs>=2.3.0 in /usr/local/lib/python3.11/dist-packages (from aiohttp<4.0.0,>=3.8.3->langchain_community) (2.6.1)\n",
            "Requirement already satisfied: aiosignal>=1.1.2 in /usr/local/lib/python3.11/dist-packages (from aiohttp<4.0.0,>=3.8.3->langchain_community) (1.3.2)\n",
            "Requirement already satisfied: attrs>=17.3.0 in /usr/local/lib/python3.11/dist-packages (from aiohttp<4.0.0,>=3.8.3->langchain_community) (25.3.0)\n",
            "Requirement already satisfied: frozenlist>=1.1.1 in /usr/local/lib/python3.11/dist-packages (from aiohttp<4.0.0,>=3.8.3->langchain_community) (1.6.0)\n",
            "Requirement already satisfied: multidict<7.0,>=4.5 in /usr/local/lib/python3.11/dist-packages (from aiohttp<4.0.0,>=3.8.3->langchain_community) (6.4.3)\n",
            "Requirement already satisfied: propcache>=0.2.0 in /usr/local/lib/python3.11/dist-packages (from aiohttp<4.0.0,>=3.8.3->langchain_community) (0.3.1)\n",
            "Requirement already satisfied: yarl<2.0,>=1.17.0 in /usr/local/lib/python3.11/dist-packages (from aiohttp<4.0.0,>=3.8.3->langchain_community) (1.20.0)\n",
            "Requirement already satisfied: marshmallow<4.0.0,>=3.18.0 in /usr/local/lib/python3.11/dist-packages (from dataclasses-json<0.7,>=0.5.7->langchain_community) (3.26.1)\n",
            "Requirement already satisfied: typing-inspect<1,>=0.4.0 in /usr/local/lib/python3.11/dist-packages (from dataclasses-json<0.7,>=0.5.7->langchain_community) (0.9.0)\n",
            "Requirement already satisfied: langchain-text-splitters<1.0.0,>=0.3.8 in /usr/local/lib/python3.11/dist-packages (from langchain<1.0.0,>=0.3.25->langchain_community) (0.3.8)\n",
            "Requirement already satisfied: pydantic<3.0.0,>=2.7.4 in /usr/local/lib/python3.11/dist-packages (from langchain<1.0.0,>=0.3.25->langchain_community) (2.11.4)\n",
            "Requirement already satisfied: jsonpatch<2.0,>=1.33 in /usr/local/lib/python3.11/dist-packages (from langchain-core<1.0.0,>=0.3.59->langchain_community) (1.33)\n",
            "Requirement already satisfied: packaging<25,>=23.2 in /usr/local/lib/python3.11/dist-packages (from langchain-core<1.0.0,>=0.3.59->langchain_community) (24.2)\n",
            "Requirement already satisfied: typing-extensions>=4.7 in /usr/local/lib/python3.11/dist-packages (from langchain-core<1.0.0,>=0.3.59->langchain_community) (4.13.2)\n",
            "Requirement already satisfied: httpx<1,>=0.23.0 in /usr/local/lib/python3.11/dist-packages (from langsmith<0.4,>=0.1.125->langchain_community) (0.28.1)\n",
            "Requirement already satisfied: orjson<4.0.0,>=3.9.14 in /usr/local/lib/python3.11/dist-packages (from langsmith<0.4,>=0.1.125->langchain_community) (3.10.18)\n",
            "Requirement already satisfied: requests-toolbelt<2.0.0,>=1.0.0 in /usr/local/lib/python3.11/dist-packages (from langsmith<0.4,>=0.1.125->langchain_community) (1.0.0)\n",
            "Requirement already satisfied: zstandard<0.24.0,>=0.23.0 in /usr/local/lib/python3.11/dist-packages (from langsmith<0.4,>=0.1.125->langchain_community) (0.23.0)\n",
            "Requirement already satisfied: python-dotenv>=0.21.0 in /usr/local/lib/python3.11/dist-packages (from pydantic-settings<3.0.0,>=2.4.0->langchain_community) (1.1.0)\n",
            "Requirement already satisfied: typing-inspection>=0.4.0 in /usr/local/lib/python3.11/dist-packages (from pydantic-settings<3.0.0,>=2.4.0->langchain_community) (0.4.0)\n",
            "Requirement already satisfied: charset-normalizer<4,>=2 in /usr/local/lib/python3.11/dist-packages (from requests<3,>=2->langchain_community) (3.4.2)\n",
            "Requirement already satisfied: idna<4,>=2.5 in /usr/local/lib/python3.11/dist-packages (from requests<3,>=2->langchain_community) (3.10)\n",
            "Requirement already satisfied: urllib3<3,>=1.21.1 in /usr/local/lib/python3.11/dist-packages (from requests<3,>=2->langchain_community) (2.4.0)\n",
            "Requirement already satisfied: certifi>=2017.4.17 in /usr/local/lib/python3.11/dist-packages (from requests<3,>=2->langchain_community) (2025.4.26)\n",
            "Requirement already satisfied: greenlet>=1 in /usr/local/lib/python3.11/dist-packages (from SQLAlchemy<3,>=1.4->langchain_community) (3.2.2)\n",
            "Requirement already satisfied: anyio in /usr/local/lib/python3.11/dist-packages (from httpx<1,>=0.23.0->langsmith<0.4,>=0.1.125->langchain_community) (4.9.0)\n",
            "Requirement already satisfied: httpcore==1.* in /usr/local/lib/python3.11/dist-packages (from httpx<1,>=0.23.0->langsmith<0.4,>=0.1.125->langchain_community) (1.0.9)\n",
            "Requirement already satisfied: h11>=0.16 in /usr/local/lib/python3.11/dist-packages (from httpcore==1.*->httpx<1,>=0.23.0->langsmith<0.4,>=0.1.125->langchain_community) (0.16.0)\n",
            "Requirement already satisfied: jsonpointer>=1.9 in /usr/local/lib/python3.11/dist-packages (from jsonpatch<2.0,>=1.33->langchain-core<1.0.0,>=0.3.59->langchain_community) (3.0.0)\n",
            "Requirement already satisfied: annotated-types>=0.6.0 in /usr/local/lib/python3.11/dist-packages (from pydantic<3.0.0,>=2.7.4->langchain<1.0.0,>=0.3.25->langchain_community) (0.7.0)\n",
            "Requirement already satisfied: pydantic-core==2.33.2 in /usr/local/lib/python3.11/dist-packages (from pydantic<3.0.0,>=2.7.4->langchain<1.0.0,>=0.3.25->langchain_community) (2.33.2)\n",
            "Requirement already satisfied: mypy-extensions>=0.3.0 in /usr/local/lib/python3.11/dist-packages (from typing-inspect<1,>=0.4.0->dataclasses-json<0.7,>=0.5.7->langchain_community) (1.1.0)\n",
            "Requirement already satisfied: sniffio>=1.1 in /usr/local/lib/python3.11/dist-packages (from anyio->httpx<1,>=0.23.0->langsmith<0.4,>=0.1.125->langchain_community) (1.3.1)\n",
            "Requirement already satisfied: replicate in /usr/local/lib/python3.11/dist-packages (1.0.6)\n",
            "Requirement already satisfied: httpx<1,>=0.21.0 in /usr/local/lib/python3.11/dist-packages (from replicate) (0.28.1)\n",
            "Requirement already satisfied: packaging in /usr/local/lib/python3.11/dist-packages (from replicate) (24.2)\n",
            "Requirement already satisfied: pydantic>1.10.7 in /usr/local/lib/python3.11/dist-packages (from replicate) (2.11.4)\n",
            "Requirement already satisfied: typing_extensions>=4.5.0 in /usr/local/lib/python3.11/dist-packages (from replicate) (4.13.2)\n",
            "Requirement already satisfied: anyio in /usr/local/lib/python3.11/dist-packages (from httpx<1,>=0.21.0->replicate) (4.9.0)\n",
            "Requirement already satisfied: certifi in /usr/local/lib/python3.11/dist-packages (from httpx<1,>=0.21.0->replicate) (2025.4.26)\n",
            "Requirement already satisfied: httpcore==1.* in /usr/local/lib/python3.11/dist-packages (from httpx<1,>=0.21.0->replicate) (1.0.9)\n",
            "Requirement already satisfied: idna in /usr/local/lib/python3.11/dist-packages (from httpx<1,>=0.21.0->replicate) (3.10)\n",
            "Requirement already satisfied: h11>=0.16 in /usr/local/lib/python3.11/dist-packages (from httpcore==1.*->httpx<1,>=0.21.0->replicate) (0.16.0)\n",
            "Requirement already satisfied: annotated-types>=0.6.0 in /usr/local/lib/python3.11/dist-packages (from pydantic>1.10.7->replicate) (0.7.0)\n",
            "Requirement already satisfied: pydantic-core==2.33.2 in /usr/local/lib/python3.11/dist-packages (from pydantic>1.10.7->replicate) (2.33.2)\n",
            "Requirement already satisfied: typing-inspection>=0.4.0 in /usr/local/lib/python3.11/dist-packages (from pydantic>1.10.7->replicate) (0.4.0)\n",
            "Requirement already satisfied: sniffio>=1.1 in /usr/local/lib/python3.11/dist-packages (from anyio->httpx<1,>=0.21.0->replicate) (1.3.1)\n"
          ]
        }
      ]
    },
    {
      "cell_type": "code",
      "source": [
        "from langchain_community.llms import Replicate\n",
        "import os\n",
        "from google.colab import userdata\n",
        "# Set the API token\n",
        "api_token = userdata.get('api_token')\n",
        "os.environ[\"REPLICATE_API_TOKEN\"] = api_token\n",
        "# Model setup\n",
        "model = \"ibm-granite/granite-3.3-8b-instruct\"\n",
        "output = Replicate(\n",
        "model=model,\n",
        "replicate_api_token=api_token,\n",
        ")"
      ],
      "metadata": {
        "id": "pYBlN0jsSL8m"
      },
      "execution_count": 4,
      "outputs": []
    },
    {
      "cell_type": "markdown",
      "source": [
        "# EXPLORATORY DATA ANALYSIS"
      ],
      "metadata": {
        "id": "LEMPgMGsPS-f"
      }
    },
    {
      "cell_type": "code",
      "source": [
        "df = \"/content/datasets/Student Mental Health Analysis During Online Learning.csv\"\n",
        "df = pd.read_csv(df)"
      ],
      "metadata": {
        "id": "N2okvZLYOiO4"
      },
      "execution_count": 5,
      "outputs": []
    },
    {
      "cell_type": "code",
      "source": [
        "# Preview the data\n",
        "df.head()"
      ],
      "metadata": {
        "colab": {
          "base_uri": "https://localhost:8080/",
          "height": 224
        },
        "id": "gaFl1QbsPXTh",
        "outputId": "70750dc5-0b4c-4b47-bb60-9846fe532e9e"
      },
      "execution_count": 6,
      "outputs": [
        {
          "output_type": "execute_result",
          "data": {
            "text/plain": [
              "     Name  Gender  Age Education Level  Screen Time (hrs/day)  \\\n",
              "0   Aarav    Male   15         Class 8                    7.1   \n",
              "1   Meera  Female   25             MSc                    3.3   \n",
              "2  Ishaan    Male   20           BTech                    9.5   \n",
              "3  Aditya    Male   20              BA                   10.8   \n",
              "4   Anika  Female   17        Class 11                    2.8   \n",
              "\n",
              "   Sleep Duration (hrs)  Physical Activity (hrs/week) Stress Level  \\\n",
              "0                   8.9                           9.3       Medium   \n",
              "1                   5.0                           0.2       Medium   \n",
              "2                   5.4                           6.2       Medium   \n",
              "3                   5.6                           5.5         High   \n",
              "4                   5.4                           3.1       Medium   \n",
              "\n",
              "  Anxious Before Exams Academic Performance Change  \n",
              "0                   No                        Same  \n",
              "1                   No                        Same  \n",
              "2                   No                        Same  \n",
              "3                  Yes                        Same  \n",
              "4                  Yes                        Same  "
            ],
            "text/html": [
              "\n",
              "  <div id=\"df-54dd66b2-60fa-47bd-a6f2-1c8196c3084e\" class=\"colab-df-container\">\n",
              "    <div>\n",
              "<style scoped>\n",
              "    .dataframe tbody tr th:only-of-type {\n",
              "        vertical-align: middle;\n",
              "    }\n",
              "\n",
              "    .dataframe tbody tr th {\n",
              "        vertical-align: top;\n",
              "    }\n",
              "\n",
              "    .dataframe thead th {\n",
              "        text-align: right;\n",
              "    }\n",
              "</style>\n",
              "<table border=\"1\" class=\"dataframe\">\n",
              "  <thead>\n",
              "    <tr style=\"text-align: right;\">\n",
              "      <th></th>\n",
              "      <th>Name</th>\n",
              "      <th>Gender</th>\n",
              "      <th>Age</th>\n",
              "      <th>Education Level</th>\n",
              "      <th>Screen Time (hrs/day)</th>\n",
              "      <th>Sleep Duration (hrs)</th>\n",
              "      <th>Physical Activity (hrs/week)</th>\n",
              "      <th>Stress Level</th>\n",
              "      <th>Anxious Before Exams</th>\n",
              "      <th>Academic Performance Change</th>\n",
              "    </tr>\n",
              "  </thead>\n",
              "  <tbody>\n",
              "    <tr>\n",
              "      <th>0</th>\n",
              "      <td>Aarav</td>\n",
              "      <td>Male</td>\n",
              "      <td>15</td>\n",
              "      <td>Class 8</td>\n",
              "      <td>7.1</td>\n",
              "      <td>8.9</td>\n",
              "      <td>9.3</td>\n",
              "      <td>Medium</td>\n",
              "      <td>No</td>\n",
              "      <td>Same</td>\n",
              "    </tr>\n",
              "    <tr>\n",
              "      <th>1</th>\n",
              "      <td>Meera</td>\n",
              "      <td>Female</td>\n",
              "      <td>25</td>\n",
              "      <td>MSc</td>\n",
              "      <td>3.3</td>\n",
              "      <td>5.0</td>\n",
              "      <td>0.2</td>\n",
              "      <td>Medium</td>\n",
              "      <td>No</td>\n",
              "      <td>Same</td>\n",
              "    </tr>\n",
              "    <tr>\n",
              "      <th>2</th>\n",
              "      <td>Ishaan</td>\n",
              "      <td>Male</td>\n",
              "      <td>20</td>\n",
              "      <td>BTech</td>\n",
              "      <td>9.5</td>\n",
              "      <td>5.4</td>\n",
              "      <td>6.2</td>\n",
              "      <td>Medium</td>\n",
              "      <td>No</td>\n",
              "      <td>Same</td>\n",
              "    </tr>\n",
              "    <tr>\n",
              "      <th>3</th>\n",
              "      <td>Aditya</td>\n",
              "      <td>Male</td>\n",
              "      <td>20</td>\n",
              "      <td>BA</td>\n",
              "      <td>10.8</td>\n",
              "      <td>5.6</td>\n",
              "      <td>5.5</td>\n",
              "      <td>High</td>\n",
              "      <td>Yes</td>\n",
              "      <td>Same</td>\n",
              "    </tr>\n",
              "    <tr>\n",
              "      <th>4</th>\n",
              "      <td>Anika</td>\n",
              "      <td>Female</td>\n",
              "      <td>17</td>\n",
              "      <td>Class 11</td>\n",
              "      <td>2.8</td>\n",
              "      <td>5.4</td>\n",
              "      <td>3.1</td>\n",
              "      <td>Medium</td>\n",
              "      <td>Yes</td>\n",
              "      <td>Same</td>\n",
              "    </tr>\n",
              "  </tbody>\n",
              "</table>\n",
              "</div>\n",
              "    <div class=\"colab-df-buttons\">\n",
              "\n",
              "  <div class=\"colab-df-container\">\n",
              "    <button class=\"colab-df-convert\" onclick=\"convertToInteractive('df-54dd66b2-60fa-47bd-a6f2-1c8196c3084e')\"\n",
              "            title=\"Convert this dataframe to an interactive table.\"\n",
              "            style=\"display:none;\">\n",
              "\n",
              "  <svg xmlns=\"http://www.w3.org/2000/svg\" height=\"24px\" viewBox=\"0 -960 960 960\">\n",
              "    <path d=\"M120-120v-720h720v720H120Zm60-500h600v-160H180v160Zm220 220h160v-160H400v160Zm0 220h160v-160H400v160ZM180-400h160v-160H180v160Zm440 0h160v-160H620v160ZM180-180h160v-160H180v160Zm440 0h160v-160H620v160Z\"/>\n",
              "  </svg>\n",
              "    </button>\n",
              "\n",
              "  <style>\n",
              "    .colab-df-container {\n",
              "      display:flex;\n",
              "      gap: 12px;\n",
              "    }\n",
              "\n",
              "    .colab-df-convert {\n",
              "      background-color: #E8F0FE;\n",
              "      border: none;\n",
              "      border-radius: 50%;\n",
              "      cursor: pointer;\n",
              "      display: none;\n",
              "      fill: #1967D2;\n",
              "      height: 32px;\n",
              "      padding: 0 0 0 0;\n",
              "      width: 32px;\n",
              "    }\n",
              "\n",
              "    .colab-df-convert:hover {\n",
              "      background-color: #E2EBFA;\n",
              "      box-shadow: 0px 1px 2px rgba(60, 64, 67, 0.3), 0px 1px 3px 1px rgba(60, 64, 67, 0.15);\n",
              "      fill: #174EA6;\n",
              "    }\n",
              "\n",
              "    .colab-df-buttons div {\n",
              "      margin-bottom: 4px;\n",
              "    }\n",
              "\n",
              "    [theme=dark] .colab-df-convert {\n",
              "      background-color: #3B4455;\n",
              "      fill: #D2E3FC;\n",
              "    }\n",
              "\n",
              "    [theme=dark] .colab-df-convert:hover {\n",
              "      background-color: #434B5C;\n",
              "      box-shadow: 0px 1px 3px 1px rgba(0, 0, 0, 0.15);\n",
              "      filter: drop-shadow(0px 1px 2px rgba(0, 0, 0, 0.3));\n",
              "      fill: #FFFFFF;\n",
              "    }\n",
              "  </style>\n",
              "\n",
              "    <script>\n",
              "      const buttonEl =\n",
              "        document.querySelector('#df-54dd66b2-60fa-47bd-a6f2-1c8196c3084e button.colab-df-convert');\n",
              "      buttonEl.style.display =\n",
              "        google.colab.kernel.accessAllowed ? 'block' : 'none';\n",
              "\n",
              "      async function convertToInteractive(key) {\n",
              "        const element = document.querySelector('#df-54dd66b2-60fa-47bd-a6f2-1c8196c3084e');\n",
              "        const dataTable =\n",
              "          await google.colab.kernel.invokeFunction('convertToInteractive',\n",
              "                                                    [key], {});\n",
              "        if (!dataTable) return;\n",
              "\n",
              "        const docLinkHtml = 'Like what you see? Visit the ' +\n",
              "          '<a target=\"_blank\" href=https://colab.research.google.com/notebooks/data_table.ipynb>data table notebook</a>'\n",
              "          + ' to learn more about interactive tables.';\n",
              "        element.innerHTML = '';\n",
              "        dataTable['output_type'] = 'display_data';\n",
              "        await google.colab.output.renderOutput(dataTable, element);\n",
              "        const docLink = document.createElement('div');\n",
              "        docLink.innerHTML = docLinkHtml;\n",
              "        element.appendChild(docLink);\n",
              "      }\n",
              "    </script>\n",
              "  </div>\n",
              "\n",
              "\n",
              "    <div id=\"df-8ce03ae9-2760-46c4-a14f-6b880e08261f\">\n",
              "      <button class=\"colab-df-quickchart\" onclick=\"quickchart('df-8ce03ae9-2760-46c4-a14f-6b880e08261f')\"\n",
              "                title=\"Suggest charts\"\n",
              "                style=\"display:none;\">\n",
              "\n",
              "<svg xmlns=\"http://www.w3.org/2000/svg\" height=\"24px\"viewBox=\"0 0 24 24\"\n",
              "     width=\"24px\">\n",
              "    <g>\n",
              "        <path d=\"M19 3H5c-1.1 0-2 .9-2 2v14c0 1.1.9 2 2 2h14c1.1 0 2-.9 2-2V5c0-1.1-.9-2-2-2zM9 17H7v-7h2v7zm4 0h-2V7h2v10zm4 0h-2v-4h2v4z\"/>\n",
              "    </g>\n",
              "</svg>\n",
              "      </button>\n",
              "\n",
              "<style>\n",
              "  .colab-df-quickchart {\n",
              "      --bg-color: #E8F0FE;\n",
              "      --fill-color: #1967D2;\n",
              "      --hover-bg-color: #E2EBFA;\n",
              "      --hover-fill-color: #174EA6;\n",
              "      --disabled-fill-color: #AAA;\n",
              "      --disabled-bg-color: #DDD;\n",
              "  }\n",
              "\n",
              "  [theme=dark] .colab-df-quickchart {\n",
              "      --bg-color: #3B4455;\n",
              "      --fill-color: #D2E3FC;\n",
              "      --hover-bg-color: #434B5C;\n",
              "      --hover-fill-color: #FFFFFF;\n",
              "      --disabled-bg-color: #3B4455;\n",
              "      --disabled-fill-color: #666;\n",
              "  }\n",
              "\n",
              "  .colab-df-quickchart {\n",
              "    background-color: var(--bg-color);\n",
              "    border: none;\n",
              "    border-radius: 50%;\n",
              "    cursor: pointer;\n",
              "    display: none;\n",
              "    fill: var(--fill-color);\n",
              "    height: 32px;\n",
              "    padding: 0;\n",
              "    width: 32px;\n",
              "  }\n",
              "\n",
              "  .colab-df-quickchart:hover {\n",
              "    background-color: var(--hover-bg-color);\n",
              "    box-shadow: 0 1px 2px rgba(60, 64, 67, 0.3), 0 1px 3px 1px rgba(60, 64, 67, 0.15);\n",
              "    fill: var(--button-hover-fill-color);\n",
              "  }\n",
              "\n",
              "  .colab-df-quickchart-complete:disabled,\n",
              "  .colab-df-quickchart-complete:disabled:hover {\n",
              "    background-color: var(--disabled-bg-color);\n",
              "    fill: var(--disabled-fill-color);\n",
              "    box-shadow: none;\n",
              "  }\n",
              "\n",
              "  .colab-df-spinner {\n",
              "    border: 2px solid var(--fill-color);\n",
              "    border-color: transparent;\n",
              "    border-bottom-color: var(--fill-color);\n",
              "    animation:\n",
              "      spin 1s steps(1) infinite;\n",
              "  }\n",
              "\n",
              "  @keyframes spin {\n",
              "    0% {\n",
              "      border-color: transparent;\n",
              "      border-bottom-color: var(--fill-color);\n",
              "      border-left-color: var(--fill-color);\n",
              "    }\n",
              "    20% {\n",
              "      border-color: transparent;\n",
              "      border-left-color: var(--fill-color);\n",
              "      border-top-color: var(--fill-color);\n",
              "    }\n",
              "    30% {\n",
              "      border-color: transparent;\n",
              "      border-left-color: var(--fill-color);\n",
              "      border-top-color: var(--fill-color);\n",
              "      border-right-color: var(--fill-color);\n",
              "    }\n",
              "    40% {\n",
              "      border-color: transparent;\n",
              "      border-right-color: var(--fill-color);\n",
              "      border-top-color: var(--fill-color);\n",
              "    }\n",
              "    60% {\n",
              "      border-color: transparent;\n",
              "      border-right-color: var(--fill-color);\n",
              "    }\n",
              "    80% {\n",
              "      border-color: transparent;\n",
              "      border-right-color: var(--fill-color);\n",
              "      border-bottom-color: var(--fill-color);\n",
              "    }\n",
              "    90% {\n",
              "      border-color: transparent;\n",
              "      border-bottom-color: var(--fill-color);\n",
              "    }\n",
              "  }\n",
              "</style>\n",
              "\n",
              "      <script>\n",
              "        async function quickchart(key) {\n",
              "          const quickchartButtonEl =\n",
              "            document.querySelector('#' + key + ' button');\n",
              "          quickchartButtonEl.disabled = true;  // To prevent multiple clicks.\n",
              "          quickchartButtonEl.classList.add('colab-df-spinner');\n",
              "          try {\n",
              "            const charts = await google.colab.kernel.invokeFunction(\n",
              "                'suggestCharts', [key], {});\n",
              "          } catch (error) {\n",
              "            console.error('Error during call to suggestCharts:', error);\n",
              "          }\n",
              "          quickchartButtonEl.classList.remove('colab-df-spinner');\n",
              "          quickchartButtonEl.classList.add('colab-df-quickchart-complete');\n",
              "        }\n",
              "        (() => {\n",
              "          let quickchartButtonEl =\n",
              "            document.querySelector('#df-8ce03ae9-2760-46c4-a14f-6b880e08261f button');\n",
              "          quickchartButtonEl.style.display =\n",
              "            google.colab.kernel.accessAllowed ? 'block' : 'none';\n",
              "        })();\n",
              "      </script>\n",
              "    </div>\n",
              "\n",
              "    </div>\n",
              "  </div>\n"
            ],
            "application/vnd.google.colaboratory.intrinsic+json": {
              "type": "dataframe",
              "variable_name": "df",
              "summary": "{\n  \"name\": \"df\",\n  \"rows\": 1000,\n  \"fields\": [\n    {\n      \"column\": \"Name\",\n      \"properties\": {\n        \"dtype\": \"category\",\n        \"num_unique_values\": 30,\n        \"samples\": [\n          \"Dee\",\n          \"Vihaan\",\n          \"Tanu\"\n        ],\n        \"semantic_type\": \"\",\n        \"description\": \"\"\n      }\n    },\n    {\n      \"column\": \"Gender\",\n      \"properties\": {\n        \"dtype\": \"category\",\n        \"num_unique_values\": 3,\n        \"samples\": [\n          \"Male\",\n          \"Female\",\n          \"Other\"\n        ],\n        \"semantic_type\": \"\",\n        \"description\": \"\"\n      }\n    },\n    {\n      \"column\": \"Age\",\n      \"properties\": {\n        \"dtype\": \"number\",\n        \"std\": 3,\n        \"min\": 15,\n        \"max\": 26,\n        \"num_unique_values\": 12,\n        \"samples\": [\n          26,\n          19,\n          15\n        ],\n        \"semantic_type\": \"\",\n        \"description\": \"\"\n      }\n    },\n    {\n      \"column\": \"Education Level\",\n      \"properties\": {\n        \"dtype\": \"category\",\n        \"num_unique_values\": 11,\n        \"samples\": [\n          \"MTech\",\n          \"Class 8\",\n          \"BSc\"\n        ],\n        \"semantic_type\": \"\",\n        \"description\": \"\"\n      }\n    },\n    {\n      \"column\": \"Screen Time (hrs/day)\",\n      \"properties\": {\n        \"dtype\": \"number\",\n        \"std\": 2.907106228988996,\n        \"min\": 2.0,\n        \"max\": 12.0,\n        \"num_unique_values\": 101,\n        \"samples\": [\n          4.4,\n          9.8,\n          4.3\n        ],\n        \"semantic_type\": \"\",\n        \"description\": \"\"\n      }\n    },\n    {\n      \"column\": \"Sleep Duration (hrs)\",\n      \"properties\": {\n        \"dtype\": \"number\",\n        \"std\": 1.4664070750339793,\n        \"min\": 4.0,\n        \"max\": 9.0,\n        \"num_unique_values\": 51,\n        \"samples\": [\n          5.8,\n          8.7,\n          5.7\n        ],\n        \"semantic_type\": \"\",\n        \"description\": \"\"\n      }\n    },\n    {\n      \"column\": \"Physical Activity (hrs/week)\",\n      \"properties\": {\n        \"dtype\": \"number\",\n        \"std\": 2.930344204552967,\n        \"min\": 0.0,\n        \"max\": 10.0,\n        \"num_unique_values\": 101,\n        \"samples\": [\n          6.6,\n          2.3,\n          6.3\n        ],\n        \"semantic_type\": \"\",\n        \"description\": \"\"\n      }\n    },\n    {\n      \"column\": \"Stress Level\",\n      \"properties\": {\n        \"dtype\": \"category\",\n        \"num_unique_values\": 3,\n        \"samples\": [\n          \"Medium\",\n          \"High\",\n          \"Low\"\n        ],\n        \"semantic_type\": \"\",\n        \"description\": \"\"\n      }\n    },\n    {\n      \"column\": \"Anxious Before Exams\",\n      \"properties\": {\n        \"dtype\": \"category\",\n        \"num_unique_values\": 2,\n        \"samples\": [\n          \"Yes\",\n          \"No\"\n        ],\n        \"semantic_type\": \"\",\n        \"description\": \"\"\n      }\n    },\n    {\n      \"column\": \"Academic Performance Change\",\n      \"properties\": {\n        \"dtype\": \"category\",\n        \"num_unique_values\": 3,\n        \"samples\": [\n          \"Same\",\n          \"Improved\"\n        ],\n        \"semantic_type\": \"\",\n        \"description\": \"\"\n      }\n    }\n  ]\n}"
            }
          },
          "metadata": {},
          "execution_count": 6
        }
      ]
    },
    {
      "cell_type": "code",
      "source": [
        "df.info()"
      ],
      "metadata": {
        "colab": {
          "base_uri": "https://localhost:8080/"
        },
        "id": "q4PcJnbcPpci",
        "outputId": "c2710b4d-0b8e-46ea-e2fc-183eb0554145"
      },
      "execution_count": 7,
      "outputs": [
        {
          "output_type": "stream",
          "name": "stdout",
          "text": [
            "<class 'pandas.core.frame.DataFrame'>\n",
            "RangeIndex: 1000 entries, 0 to 999\n",
            "Data columns (total 10 columns):\n",
            " #   Column                        Non-Null Count  Dtype  \n",
            "---  ------                        --------------  -----  \n",
            " 0   Name                          1000 non-null   object \n",
            " 1   Gender                        1000 non-null   object \n",
            " 2   Age                           1000 non-null   int64  \n",
            " 3   Education Level               1000 non-null   object \n",
            " 4   Screen Time (hrs/day)         1000 non-null   float64\n",
            " 5   Sleep Duration (hrs)          1000 non-null   float64\n",
            " 6   Physical Activity (hrs/week)  1000 non-null   float64\n",
            " 7   Stress Level                  1000 non-null   object \n",
            " 8   Anxious Before Exams          1000 non-null   object \n",
            " 9   Academic Performance Change   1000 non-null   object \n",
            "dtypes: float64(3), int64(1), object(6)\n",
            "memory usage: 78.3+ KB\n"
          ]
        }
      ]
    },
    {
      "cell_type": "markdown",
      "source": [
        "Cek nilai NaN disetiap kolom dan drop kolom \"Name\" pada dataset."
      ],
      "metadata": {
        "id": "bXXSBX-jOn-O"
      }
    },
    {
      "cell_type": "code",
      "source": [
        "# Cek apakah ada nilai NaN di setiap kolom\n",
        "nan_counts = df.isnull().sum()\n",
        "print(\"Jumlah nilai NaN di setiap kolom:\")\n",
        "print(nan_counts)\n",
        "\n",
        "# Drop kolom 'Name'\n",
        "df.drop(columns=['Name'], inplace=True)"
      ],
      "metadata": {
        "colab": {
          "base_uri": "https://localhost:8080/"
        },
        "id": "Qi-lqjIMTCGp",
        "outputId": "6346f560-e5c6-491b-d3aa-3e2ed0700859"
      },
      "execution_count": 8,
      "outputs": [
        {
          "output_type": "stream",
          "name": "stdout",
          "text": [
            "Jumlah nilai NaN di setiap kolom:\n",
            "Name                            0\n",
            "Gender                          0\n",
            "Age                             0\n",
            "Education Level                 0\n",
            "Screen Time (hrs/day)           0\n",
            "Sleep Duration (hrs)            0\n",
            "Physical Activity (hrs/week)    0\n",
            "Stress Level                    0\n",
            "Anxious Before Exams            0\n",
            "Academic Performance Change     0\n",
            "dtype: int64\n"
          ]
        }
      ]
    },
    {
      "cell_type": "markdown",
      "source": [
        "Mengacak data dan mengambil 500 baris pertama dari data sebagai data untuk dianalisis dan dikonversi ke string."
      ],
      "metadata": {
        "id": "QO2zMD-TOZnt"
      }
    },
    {
      "cell_type": "code",
      "source": [
        "# Shuffle data dan ambil 500 baris pertama\n",
        "shuffled_df = df.sample(frac=1, random_state=42).head(500)\n",
        "\n",
        "# Konversi ke teks\n",
        "table_text = shuffled_df.to_string(index=False)"
      ],
      "metadata": {
        "id": "I4AyMwe1IgI8"
      },
      "execution_count": 9,
      "outputs": []
    },
    {
      "cell_type": "code",
      "source": [
        "preview_lines = table_text.split('\\n')[:10]  # ambil 10 baris pertama\n",
        "preview_text = '\\n'.join(preview_lines)\n",
        "print(preview_text)"
      ],
      "metadata": {
        "colab": {
          "base_uri": "https://localhost:8080/"
        },
        "id": "sMnXu-e4DB8b",
        "outputId": "aa1c4f4c-9a7e-4475-a2b3-aeba47ce1359"
      },
      "execution_count": 10,
      "outputs": [
        {
          "output_type": "stream",
          "name": "stdout",
          "text": [
            "Gender  Age Education Level  Screen Time (hrs/day)  Sleep Duration (hrs)  Physical Activity (hrs/week) Stress Level Anxious Before Exams Academic Performance Change\n",
            "  Male   22             BSc                    7.5                   5.3                           2.7          Low                   No                    Improved\n",
            "  Male   15         Class 9                    8.0                   7.2                           4.0          Low                   No                        Same\n",
            "  Male   17        Class 10                    5.1                   7.3                           9.6       Medium                   No                        Same\n",
            "Female   16        Class 10                   10.4                   8.8                           3.2       Medium                  Yes                    Improved\n",
            "  Male   19        Class 12                    3.1                   8.7                           7.2       Medium                   No                        Same\n",
            "  Male   16         Class 9                   11.1                   7.6                           8.7         High                  Yes                    Improved\n",
            "Female   17        Class 11                    9.7                   4.5                           3.1          Low                  Yes                        Same\n",
            "  Male   25              MA                    5.4                   5.1                           7.0       Medium                  Yes                    Declined\n",
            "  Male   25           MTech                   10.5                   7.1                           2.5       Medium                   No                    Declined\n"
          ]
        }
      ]
    },
    {
      "cell_type": "markdown",
      "source": [
        "# ANALYSIS PROCESS WITH IBM GRANITE"
      ],
      "metadata": {
        "id": "XrJFE_lPSTcO"
      }
    },
    {
      "cell_type": "markdown",
      "source": [
        "Melakukan list dan eksplorasi dari setiap nilai yang unik(tidak duplikat) pada kolom fitur Gender, Age, Education Level, Stress Level, Anxious Before Exams, dan Academic Performance Change."
      ],
      "metadata": {
        "id": "1zVpO0XxNfCd"
      }
    },
    {
      "cell_type": "code",
      "source": [
        "# Define refined prompt\n",
        "refined_prompt = f\"\"\"\n",
        "List every unique value in every feature in the Data except Screen Time (hrs/day), Sleep Duration (hrs), and  Physical Activity (hrs/week)\n",
        "Data:\n",
        "{table_text}\n",
        "\"\"\"\n",
        "# Invoke the model with the example prompt\n",
        "response = output.invoke(refined_prompt)\n",
        "\n",
        "# Print the response\n",
        "print(\"Student Well-being and Academic Performance Analysis:\\n\")\n",
        "print(response)\n"
      ],
      "metadata": {
        "colab": {
          "base_uri": "https://localhost:8080/"
        },
        "id": "-tbx2sVYDphm",
        "outputId": "34f3b1a0-5f28-412c-9cd0-47e6f4c179f1"
      },
      "execution_count": 16,
      "outputs": [
        {
          "output_type": "stream",
          "name": "stdout",
          "text": [
            "Student Well-being and Academic Performance Analysis:\n",
            "\n",
            "### Unique Values in Features (Excluding Screen Time (hrs/day), Sleep Duration (hrs), and Physical Activity (hrs/week)):\n",
            "\n",
            "**Gender:**\n",
            "- Male\n",
            "- Female\n",
            "- Other\n",
            "\n",
            "**Age:**\n",
            "- 15\n",
            "- 16\n",
            "- 17\n",
            "- 18\n",
            "- 19\n",
            "- 20\n",
            "- 21\n",
            "- 22\n",
            "- 23\n",
            "- 24\n",
            "- 25\n",
            "- 26\n",
            "\n",
            "**Education Level:**\n",
            "- Class 8\n",
            "- Class 9\n",
            "- Class 10\n",
            "- Class 11\n",
            "- Class 12\n",
            "- BSc\n",
            "- MA\n",
            "- MTech\n",
            "- BTech\n",
            "- MSc\n",
            "- BA\n",
            "\n",
            "**Stress Level:**\n",
            "- Low\n",
            "- Medium\n",
            "- High\n",
            "- Other\n",
            "\n",
            "**Anxious Before Exams:**\n",
            "- No\n",
            "- Yes\n",
            "\n",
            "**Academic Performance Change:**\n",
            "- Improved\n",
            "- Same\n",
            "- Declined\n",
            "\n",
            "**Other Notes:**\n",
            "- The table contains entries with an \"Other\" category for Education Level, suggesting additional educational levels or unspecified categories not listed in typical academic tracks.\n",
            "- The unique values for each feature are listed above, excluding the specified columns (Screen Time, Sleep Duration, and Physical Activity). Each unique value appears only once, representing distinct categories or levels within each feature.\n"
          ]
        }
      ]
    },
    {
      "cell_type": "markdown",
      "source": [
        "Melakukan list dan eksplorasi dari setiap nilai yang unik(tidak duplikat) pada kolom fitur Screen Time (hrs/day) dengan aturan rounded dan melihat berapa nilai minimal dan maksimalnya."
      ],
      "metadata": {
        "id": "3d4qMJ1-N2_h"
      }
    },
    {
      "cell_type": "code",
      "source": [
        "# Set model parameters for prompting with default values\n",
        "parameters = {\n",
        " \"top_k\": 0,\n",
        " \"top_p\": 0,\n",
        " \"max_tokens\": 128,\n",
        " \"min_tokens\": 0,\n",
        " \"random_seed\": None,\n",
        " \"repetition_penalty\": 1.5,\n",
        " \"stopping_criteria\": \"length (256 tokens)\",\n",
        " \"stopping_sequence\": 256\n",
        "}\n",
        "\n",
        "# Define refined prompt\n",
        "refined_prompt = f\"\"\"\n",
        "You are given a dataset. Focus only on the following three numeric features:\n",
        "- Screen Time (hrs/day)\n",
        "\n",
        "Your task:\n",
        "1. Apply this rounding rule to each value:\n",
        "   - If the decimal is less than 0.5, round it down to the nearest whole number.\n",
        "   - If the decimal is exactly 0.5, keep it as is (e.g., 6.5 remains 6.5).\n",
        "   - If the decimal is greater than 0.5, round it up to the nearest whole number.\n",
        "\n",
        "3. From the rounded values, return with no duplicates.\n",
        "\n",
        "4. For each feature, show the following:\n",
        "   - Rounded (unique): [list of unique rounded values]\n",
        "   - Min: minimum value from the rounded list\n",
        "   - Max: maximum value from the rounded list\n",
        "\n",
        "Here is the dataset:\n",
        "{table_text}\n",
        "\"\"\"\n",
        "# Invoke the model with the example prompt\n",
        "response = output.invoke(refined_prompt, parameters=parameters)\n",
        "\n",
        "# Print the response\n",
        "print(\"Rounded Unique Values with Min/Max for Numeric Features:\\n\")\n",
        "print(response)\n"
      ],
      "metadata": {
        "colab": {
          "base_uri": "https://localhost:8080/"
        },
        "id": "U8V0MYfYGNqV",
        "outputId": "63a4ceaf-1c47-42e1-9525-386348ded33c"
      },
      "execution_count": 55,
      "outputs": [
        {
          "output_type": "stream",
          "name": "stdout",
          "text": [
            "Rounded Unique Values with Min/Max for Numeric Features:\n",
            "\n",
            "### Rounded Screen Time (unique):\n",
            "[3, 4, 5, 6, 7, 8, 9, 10, 11, 12, 13, 14, 15]\n",
            "\n",
            "### Min:\n",
            "3\n",
            "\n",
            "### Max:\n",
            "15\n",
            "\n",
            "I have applied the rounding rule to the 'Screen Time (hrs/day)' column from the given dataset, resulting in the following unique rounded values: [3, 4, 5, 6, 7, 8, 9, 10, 11, 12, 13, 14, 15]. The minimum value from these rounded numbers is 3, and the maximum value is 15. The dataset includes screen times ranging from 3 hours to 15 hours per day, with 15 distinct rounded values. Note that the original dataset contained both whole numbers and decimals, and the specified rounding rule was followed to produce these unique values.\n"
          ]
        }
      ]
    },
    {
      "cell_type": "markdown",
      "source": [
        "Melakukan list dan eksplorasi dari setiap nilai yang unik(tidak duplikat) pada kolom fitur Sleep Duration (hrs) dengan aturan rounded dan melihat berapa nilai minimal dan maksimalnya."
      ],
      "metadata": {
        "id": "cwT-pdAOOG9F"
      }
    },
    {
      "cell_type": "code",
      "source": [
        "# Set model parameters for prompting with default values\n",
        "parameters = {\n",
        " \"top_k\": 0,\n",
        " \"top_p\": 0,\n",
        " \"max_tokens\": 128,\n",
        " \"min_tokens\": 0,\n",
        " \"random_seed\": None,\n",
        " \"repetition_penalty\": 1.5,\n",
        " \"stopping_criteria\": \"length (256 tokens)\",\n",
        " \"stopping_sequence\": 256\n",
        "}\n",
        "\n",
        "# Define refined prompt\n",
        "refined_prompt = f\"\"\"\n",
        "You are given a dataset. Focus only on the following three numeric features:\n",
        "- Sleep Duration (hrs)\n",
        "\n",
        "Your task:\n",
        "1. Apply this rounding rule to each value:\n",
        "   - If the decimal is less than 0.5, round it down to the nearest whole number.\n",
        "   - If the decimal is exactly 0.5, keep it as is (e.g., 6.5 remains 6.5).\n",
        "   - If the decimal is greater than 0.5, round it up to the nearest whole number.\n",
        "\n",
        "3. From the rounded values, return with no duplicates.\n",
        "\n",
        "4. For each feature, show the following:\n",
        "   - Rounded (unique): [list of unique rounded values]\n",
        "   - Min: minimum value from the rounded list\n",
        "   - Max: maximum value from the rounded list\n",
        "\n",
        "Here is the dataset:\n",
        "{table_text}\n",
        "\"\"\"\n",
        "# Invoke the model with the example prompt\n",
        "response = output.invoke(refined_prompt, parameters=parameters)\n",
        "\n",
        "# Print the response\n",
        "print(\"Rounded Unique Values with Min/Max for Numeric Features:\\n\")\n",
        "print(response)\n"
      ],
      "metadata": {
        "colab": {
          "base_uri": "https://localhost:8080/"
        },
        "id": "YbcJa9hnKl5X",
        "outputId": "be881eb4-b313-418a-acc9-905e7096da95"
      },
      "execution_count": 56,
      "outputs": [
        {
          "output_type": "stream",
          "name": "stdout",
          "text": [
            "Rounded Unique Values with Min/Max for Numeric Features:\n",
            "\n",
            "### Rounded Sleep Duration (unique) and Statistics\n",
            "\n",
            "#### Unique Rounded Sleep Durations:\n",
            "- [5, 4, 6, 7, 8, 9, 10, 11, 12]\n",
            "\n",
            "#### Statistics:\n",
            "- **Min**: 4\n",
            "- **Max**: 12\n",
            "\n",
            "### Detailed Breakdown:\n",
            "\n",
            "1. **Rounded Unique Values**:\n",
            "   - Rounded Sleep Durations (unique): [4, 5, 6, 7, 8, 9, 10, 11, 12]\n",
            "\n",
            "2. **Min**:\n",
            "   - Minimum value in the rounded list is **4** hours.\n",
            "\n",
            "3. **Max**:\n",
            "   - Maximum value in the rounded list is **12** hours.\n",
            "\n",
            "### Conclusion:\n",
            "The unique rounded sleep durations from the dataset range from 4 to 12 hours, with the minimum being 4 hours and the maximum being 12 hours.\n"
          ]
        }
      ]
    },
    {
      "cell_type": "markdown",
      "source": [
        "Melakukan list dan eksplorasi dari setiap nilai yang unik(tidak duplikat) pada kolom fitur Physical Activity (hrs/week) dengan aturan rounded dan melihat berapa nilai minimal dan maksimalnya."
      ],
      "metadata": {
        "id": "Cz_XPIG3OQdA"
      }
    },
    {
      "cell_type": "code",
      "source": [
        "# Set model parameters for prompting with default values\n",
        "parameters = {\n",
        " \"top_k\": 0,\n",
        " \"top_p\": 0,\n",
        " \"max_tokens\": 256,\n",
        " \"min_tokens\": 0,\n",
        " \"random_seed\": None,\n",
        " \"repetition_penalty\": 1.5,\n",
        " \"stopping_criteria\": \"length (256 tokens)\",\n",
        " \"stopping_sequence\": 128\n",
        "}\n",
        "\n",
        "# Define refined prompt\n",
        "refined_prompt = f\"\"\"\n",
        "You are given a dataset. Focus only on the following three numeric features:\n",
        "- Physical Activity (hrs/week)\n",
        "\n",
        "Your task:\n",
        "1. Apply this rounding rule to each value:\n",
        "   - If the decimal is less than 0.5, round it down to the nearest whole number.\n",
        "   - If the decimal is exactly 0.5, keep it as is (e.g., 6.5 remains 6.5).\n",
        "   - If the decimal is greater than 0.5, round it up to the nearest whole number.\n",
        "\n",
        "3. From the rounded values, return with no duplicates.\n",
        "\n",
        "4. For each feature, show the following:\n",
        "   - Rounded (unique): [list of unique rounded values]\n",
        "   - Min: minimum value from the rounded list\n",
        "   - Max: maximum value from the rounded list\n",
        "\n",
        "Here is the dataset:\n",
        "{table_text}\n",
        "\"\"\"\n",
        "# Invoke the model with the example prompt\n",
        "response = output.invoke(refined_prompt, parameters=parameters)\n",
        "\n",
        "# Print the response\n",
        "print(\"Rounded Unique Values with Min/Max for Numeric Features:\\n\")\n",
        "print(response)\n"
      ],
      "metadata": {
        "colab": {
          "base_uri": "https://localhost:8080/"
        },
        "id": "8589UJkXKusK",
        "outputId": "c8e98728-32fc-4229-906a-9e89fe991085"
      },
      "execution_count": 61,
      "outputs": [
        {
          "output_type": "stream",
          "name": "stdout",
          "text": [
            "Rounded Unique Values with Min/Max for Numeric Features:\n",
            "\n",
            "### Rounded Physical Activity (unique):\n",
            "\n",
            "- [0, 0.3, 0.7, 1.1, 2.0, 2.4, 2.5, 2.6, 2.7, 2.8, 3.1, 3.2, 3.6, 3.7, 3.8, 3.9, 4.0, 4.2, 4.3, 4.4, 4.5, 4.6, 4.7, 4.8, 4.9, 5.0, 5.1, 5.2, 5.3, 5.4, 5.5, 5.6, 5.7, 5.8, 5.9, 6.0, 6.1, 6.2, 6.4, 6.5, 6.7, 6.8, 7.0, 7.1, 7.2, 7.3, 7.4, 7.6, 7.7, 7.8, 7.9, 8.0, 8.1, 8.3, 8.4, 8.6, 8.7, 8.9, 9.1, 9.2, 9.4, 9.6, 9.7, 9.8, 9.9, 10.0, 10.2, 10.3, 10.4, 10.5, 10.6, 10.8, 11.0, 11.2, 11.3, 11.4, 11.5, 11.6, 11.7, 11.8]\n",
            "\n",
            "### Min:\n",
            "\n",
            "- **0**\n",
            "\n",
            "### Max:\n",
            "\n",
            "- **11.8**\n",
            "\n",
            "The unique rounded values for the \"Physical Activity (hrs/week)\" feature, after applying the given rounding rule and removing duplicates, range from 0 to 11.8 hours. The minimum value in this set is 0, and the maximum value is 11.8. Note\n"
          ]
        }
      ]
    },
    {
      "cell_type": "markdown",
      "source": [
        "Analisis korelasi antara fitur \"Screen Time (hrs/day)\" dengan Stress Level (Low, Medium, High) dan Academic Performance Change (Improved, Same, Declined)."
      ],
      "metadata": {
        "id": "NqyuciEHUHoV"
      }
    },
    {
      "cell_type": "code",
      "source": [
        "# Set model parameters for prompting with default values\n",
        "parameters = {\n",
        "    \"top_k\": 0,\n",
        "    \"top_p\": 0,\n",
        "    \"max_tokens\": 1024,\n",
        "    \"min_tokens\": 0,\n",
        "    \"random_seed\": None,\n",
        "    \"repetition_penalty\": 1.0,\n",
        "    \"stopping_criteria\": \"length (512 tokens)\",\n",
        "    \"stopping_sequence\": None\n",
        "}\n",
        "\n",
        "# Define refined prompt\n",
        "refined_prompt = f\"\"\"\n",
        "You are an AI data analyst. From the following dataset, analyze how \"Screen Time (hrs/day)\" is correlated with:\n",
        "\n",
        "1. Stress Level (Low, Medium, High)\n",
        "2. Academic Performance Change (Improved, Same, Declined)\n",
        "\n",
        "Your task:\n",
        "- Identify patterns or insights: Does higher Screen Time correlate with higher stress or poorer academic outcomes?\n",
        "- Write your findings in clear natural language, including data-driven reasoning.\n",
        "- Focus only on analysis, interpretation, and insight summary.\n",
        "\n",
        "Here is the dataset:\n",
        "{table_text}\n",
        "\"\"\"\n",
        "\n",
        "# Invoke the model with the prompt and parameters\n",
        "response = output.invoke(refined_prompt, parameters=parameters)\n",
        "\n",
        "# Print the result\n",
        "print(\"Screen Time Correlation with Stress Level and Academic Performance:\\n\")\n",
        "print(response)\n"
      ],
      "metadata": {
        "colab": {
          "base_uri": "https://localhost:8080/"
        },
        "id": "Ja5oXWpiMrui",
        "outputId": "f64a54b5-8b97-42c2-a27a-d74e7089e48e"
      },
      "execution_count": 68,
      "outputs": [
        {
          "output_type": "stream",
          "name": "stdout",
          "text": [
            "Screen Time Correlation with Stress Level and Academic Performance:\n",
            "\n",
            "### Data Analysis on Screen Time (hrs/day) Correlation\n",
            "\n",
            "#### Correlation with Stress Level\n",
            "\n",
            "1. **High Screen Time (≥10 hrs/day):**\n",
            "   - 10 out of 18 instances (55.6%) are associated with Medium or High stress levels.\n",
            "   - Notably, 6 out of these 10 instances involve High stress levels.\n",
            "   - Only 2 instances show Low stress levels despite high screen times, suggesting that high screen time generally correlates with elevated stress.\n",
            "\n",
            "2. **Medium Screen Time (5-9.9 hrs/day):**\n",
            "   - 11 out of 25 instances (44%) show Medium stress levels, with fewer High stress instances (5).\n",
            "   - Low stress instances are more common (10 out of 25).\n",
            "\n",
            "3. **Low Screen Time (<5 hrs/day):**\n",
            "   - 16 out of 25 instances (64%) indicate Low stress levels, with only 3 instances showing Medium stress and 2 showing High stress.\n",
            "\n",
            "**Insight:** There is a noticeable trend where higher screen times are associated with increased stress levels, especially when screen times exceed 10 hours per day.\n",
            "\n",
            "#### Correlation with Academic Performance Change\n",
            "\n",
            "1. **Improved Academic Performance:**\n",
            "   - 10 out of 19 instances (52.6%) with Improved performance show Low screen times (under 5 hrs/day).\n",
            "   - Only 4 instances of Improved performance are linked with Medium screen times, and none with High screen times.\n",
            "\n",
            "2. **Same Academic Performance:**\n",
            "   - 10 out of 21 instances (47.6%) with Same performance show Medium screen times, with 6 instances under 5 hrs/day and 4 High screen times.\n",
            "   - Low screen times are associated with 5 instances of Same performance.\n",
            "\n",
            "3. **Declined Academic Performance:**\n",
            "   - 7 out of 12 instances (58.3%) with Declined performance show Medium or High screen times, with 3 instances under 5 hrs/day.\n",
            "   - High screen times are more prevalent among Declined performance instances (4 out of 12).\n",
            "\n",
            "**Insight:** The dataset suggests that lower screen times (under 5 hours/day) are more likely to correlate with Improved academic performance.\n"
          ]
        }
      ]
    },
    {
      "cell_type": "markdown",
      "source": [
        "Analisis korelasi antara fitur \"Sleep Duration (hrs)\" dengan Stress Level (Low, Medium, High) dan Academic Performance Change (Improved, Same, Declined)."
      ],
      "metadata": {
        "id": "SdiHGSUTUcEi"
      }
    },
    {
      "cell_type": "code",
      "source": [
        "# Set model parameters for prompting with default values\n",
        "parameters = {\n",
        "    \"top_k\": 0,\n",
        "    \"top_p\": 0,\n",
        "    \"max_tokens\": 1024,\n",
        "    \"min_tokens\": 0,\n",
        "    \"random_seed\": None,\n",
        "    \"repetition_penalty\": 1.0,\n",
        "    \"stopping_criteria\": \"length (512 tokens)\",\n",
        "    \"stopping_sequence\": None\n",
        "}\n",
        "\n",
        "# Define refined prompt\n",
        "refined_prompt = f\"\"\"\n",
        "You are an AI data analyst. From the following dataset, analyze how \"Sleep Duration (hrs)\" is correlated with:\n",
        "\n",
        "1. Stress Level (Low, Medium, High)\n",
        "2. Academic Performance Change (Improved, Same, Declined)\n",
        "\n",
        "Your task:\n",
        "- Identify patterns or insights: Does higher Screen Time correlate with higher stress or poorer academic outcomes?\n",
        "- Write your findings in clear natural language, including data-driven reasoning.\n",
        "- Focus only on analysis, interpretation, and insight summary.\n",
        "\n",
        "Here is the dataset:\n",
        "{table_text}\n",
        "\"\"\"\n",
        "\n",
        "# Invoke the model with the prompt and parameters\n",
        "response = output.invoke(refined_prompt, parameters=parameters)\n",
        "\n",
        "# Print the result\n",
        "print(\"Screen Time Correlation with Stress Level and Academic Performance:\\n\")\n",
        "print(response)\n"
      ],
      "metadata": {
        "colab": {
          "base_uri": "https://localhost:8080/"
        },
        "id": "vw6OVKw6TA6L",
        "outputId": "09423fcf-5a9f-4215-f644-8238c95e5ac7"
      },
      "execution_count": 69,
      "outputs": [
        {
          "output_type": "stream",
          "name": "stdout",
          "text": [
            "Screen Time Correlation with Stress Level and Academic Performance:\n",
            "\n",
            "## Analysis of Sleep Duration (hrs) Correlation with Stress Level and Academic Performance Change\n",
            "\n",
            "### 1. Sleep Duration (hrs) and Stress Level\n",
            "\n",
            "- **Pattern Identification**:\n",
            "  - Individuals reporting high stress levels generally have shorter sleep durations (average ~6.6 hours).\n",
            "  - Medium stress levels show a mixed range of sleep durations, but tend to skew lower (average ~6.8 hours).\n",
            "  - Low stress levels show the longest average sleep duration (average ~7.3 hours).\n",
            "\n",
            "- **Insight Summary**:\n",
            "  - There is a negative correlation between higher reported stress levels and shorter sleep durations.\n",
            "  - Individuals with high stress levels tend to get the least sleep, averaging around 6.6 hours. Conversely, those with low stress levels average approximately 7.3 hours of sleep. This suggests that insufficient sleep could be a contributing factor to stress or that higher stress levels lead to poorer sleep quality.\n",
            "\n",
            "### 2. Sleep Duration (hrs) and Academic Performance Change\n",
            "\n",
            "- **Pattern Identification**:\n",
            "  - Students who experienced a decline in academic performance often report shorter sleep durations (average ~5.9 hours).\n",
            "  - Those who maintained the same performance level have a wider range of sleep durations but tend to average around 7.0 hours.\n",
            "  - Students who reported improvement in academic performance tend to have longer average sleep durations (average ~7.3 hours).\n",
            "\n",
            "- **Insight Summary**:\n",
            "  - There is a positive correlation between longer sleep durations and improved academic performance.\n",
            "  - Students who reported a decline in academic performance tend to sleep the least (average ~5.9 hours). In contrast, those who improved academically averaged more sleep (approximately 7.3 hours). This indicates that sufficient sleep might be crucial for maintaining or enhancing academic performance, possibly due to better cognitive function and stress management.\n",
            "\n",
            "### Conclusion:\n",
            "\n",
            "The dataset suggests that sleep duration is negatively correlated with stress levels and positively correlated with academic performance. Individuals reporting higher stress levels tend to have shorter sleep durations, and those experiencing academic decline also report less sleep. Conversely, longer sleep durations are associated with lower stress and improved academic outcomes. These findings imply that prioritizing adequate sleep could be a strategy to\n"
          ]
        }
      ]
    },
    {
      "cell_type": "markdown",
      "source": [
        "Analisis korelasi antara fitur \"Physical Activity (hrs/week)\" dengan Stress Level (Low, Medium, High) dan Academic Performance Change (Improved, Same, Declined)."
      ],
      "metadata": {
        "id": "AeSizHriUlpE"
      }
    },
    {
      "cell_type": "code",
      "source": [
        "# Set model parameters for prompting with default values\n",
        "parameters = {\n",
        "    \"top_k\": 0,\n",
        "    \"top_p\": 0,\n",
        "    \"max_tokens\": 1024,\n",
        "    \"min_tokens\": 0,\n",
        "    \"random_seed\": None,\n",
        "    \"repetition_penalty\": 1.0,\n",
        "    \"stopping_criteria\": \"length (512 tokens)\",\n",
        "    \"stopping_sequence\": None\n",
        "}\n",
        "\n",
        "# Define refined prompt\n",
        "refined_prompt = f\"\"\"\n",
        "You are an AI data analyst. From the following dataset, analyze how \"Physical Activity (hrs/week)\" is correlated with:\n",
        "\n",
        "1. Stress Level (Low, Medium, High)\n",
        "2. Academic Performance Change (Improved, Same, Declined)\n",
        "\n",
        "Your task:\n",
        "- Identify patterns or insights: Does higher Screen Time correlate with higher stress or poorer academic outcomes?\n",
        "- Write your findings in clear natural language, including data-driven reasoning.\n",
        "- Focus only on analysis, interpretation, and insight summary.\n",
        "\n",
        "Here is the dataset:\n",
        "{table_text}\n",
        "\"\"\"\n",
        "\n",
        "# Invoke the model with the prompt and parameters\n",
        "response = output.invoke(refined_prompt, parameters=parameters)\n",
        "\n",
        "# Print the result\n",
        "print(\"Screen Time Correlation with Stress Level and Academic Performance:\\n\")\n",
        "print(response)\n"
      ],
      "metadata": {
        "colab": {
          "base_uri": "https://localhost:8080/"
        },
        "id": "oJgJFVIqTX05",
        "outputId": "c94e0a64-f8d3-4750-db52-35d17aada465"
      },
      "execution_count": 70,
      "outputs": [
        {
          "output_type": "stream",
          "name": "stdout",
          "text": [
            "Screen Time Correlation with Stress Level and Academic Performance:\n",
            "\n",
            "### Analysis of Physical Activity Correlation with Stress Level and Academic Performance\n",
            "\n",
            "#### Correlation with Stress Level:\n",
            "\n",
            "1. **High Physical Activity (≥ 8 hrs/week):**\n",
            "   - Only one instance where physical activity was this high, and the stress level was reported as \"High.\"\n",
            "\n",
            "2. **Medium Physical Activity (5-7.9 hrs/week):**\n",
            "   - Most common category, with 16 instances.\n",
            "   - Stress levels were distributed: 5 \"Low,\" 5 \"Medium,\" 6 \"High.\"\n",
            "\n",
            "3. **Low Physical Activity (< 5 hrs/week):**\n",
            "   - 12 instances, with stress levels primarily \"Medium\" (7 instances) and \"High\" (5 instances).\n",
            "\n",
            "**Insight:** There is no strong direct correlation between high levels of physical activity and high stress levels. However, individuals with very low physical activity (less than 5 hours per week) tend to report higher stress levels more frequently.\n",
            "\n",
            "#### Correlation with Academic Performance:\n",
            "\n",
            "1. **Improved Academic Performance:**\n",
            "   - Individuals with high physical activity (8 hrs/week or more) tended to report \"Improved\" academic performance (4 instances).\n",
            "   - Medium physical activity (5-7.9 hrs/week) also saw \"Improved\" performance (6 instances).\n",
            "\n",
            "2. **Same Academic Performance:**\n",
            "   - The majority of instances (15) showed \"Same\" academic performance, with no strong correlation to physical activity levels.\n",
            "\n",
            "3. **Declined Academic Performance:**\n",
            "   - Low physical activity (< 5 hrs/week) correlated with \"Declined\" performance (6 instances).\n",
            "   - Medium physical activity also had instances of \"Declined\" performance (5 instances).\n",
            "\n",
            "**Insight:** There appears to be a trend suggesting that higher levels of physical activity (8 hours/week or more) might be associated with better academic performance (Improved or Same), while lower activity levels (< 5 hours/week) correlate with poorer outcomes (Declined). However, given the dataset's variability, this relationship is not conclusive without further investigation and larger sample sizes.\n",
            "\n",
            "### Conclusion\n",
            "\n",
            "While this analysis suggests potential associations, it's crucial to note that the dataset's limited sample size and the presence of other confounding variables (such as screen time, sleep duration, and individual\n"
          ]
        }
      ]
    },
    {
      "cell_type": "markdown",
      "source": [
        "Kesimpulan dan Insight yang didapatkan dari dataset yang ada"
      ],
      "metadata": {
        "id": "Jlf7kIP8YcPA"
      }
    },
    {
      "cell_type": "code",
      "source": [
        "# Set model parameters for prompting with default values\n",
        "parameters = {\n",
        "    \"top_k\": 0,\n",
        "    \"top_p\": 0,\n",
        "    \"max_tokens\": 1024,\n",
        "    \"min_tokens\": 0,\n",
        "    \"random_seed\": None,\n",
        "    \"repetition_penalty\": 1.0,\n",
        "    \"stopping_criteria\": \"length (512 tokens)\",\n",
        "    \"stopping_sequence\": None\n",
        "}\n",
        "\n",
        "# Define refined prompt for conclusion\n",
        "refined_prompt = f\"\"\"\n",
        "You are a data analyst. Based on the dataset provided below, which examines the relationship between:\n",
        "\n",
        "- Screen Time (hrs/day)\n",
        "- Stress Level (Low, Medium, High)\n",
        "- Academic Performance Change (Improved, Same, Declined)\n",
        "\n",
        "Write a **concise, well-structured conclusion** that summarizes the main findings and key takeaways.\n",
        "\n",
        "Your response should:\n",
        "- Reflect on any trends or correlations you observe (e.g., high screen time leads to higher stress or poorer academic outcomes).\n",
        "- Acknowledge the limitations of the dataset if applicable.\n",
        "- Provide meaningful insight that can inform further action, study, or policy decisions.\n",
        "\n",
        "Here is the dataset:\n",
        "{table_text}\n",
        "\"\"\"\n",
        "\n",
        "# Invoke the model with the prompt and parameters\n",
        "response = output.invoke(refined_prompt, parameters=parameters)\n",
        "\n",
        "# Print the result\n",
        "print(\"Conclusion Summary Based on Correlation Analysis:\\n\")\n",
        "print(response)"
      ],
      "metadata": {
        "colab": {
          "base_uri": "https://localhost:8080/"
        },
        "id": "mlnuwMHVWlt4",
        "outputId": "047126a8-a2ce-4afc-c894-51c1b00e3b2e"
      },
      "execution_count": 74,
      "outputs": [
        {
          "output_type": "stream",
          "name": "stdout",
          "text": [
            "Conclusion Summary Based on Correlation Analysis:\n",
            "\n",
            "### Conclusion:\n",
            "\n",
            "**Main Findings and Trends:**\n",
            "\n",
            "1. **Screen Time and Stress Level:** The dataset indicates a potential correlation between increased screen time and higher stress levels. Individuals reporting high screen time (10+ hours/day) consistently show medium to high stress levels. This trend is particularly pronounced in males, though females also exhibit elevated stress with high screen time.\n",
            "\n",
            "2. **Screen Time and Academic Performance:** High screen time (10+ hours/day) appears to be associated with a decline in academic performance, as evidenced by instances where academic performance changed to \"Declined\" among individuals with elevated screen time. This trend is consistent across various age groups and education levels, suggesting a potential negative impact of excessive screen use on academic outcomes.\n",
            "\n",
            "3. **Gender Differences:** Males in the dataset tend to report higher screen times compared to females, with some males exceeding 11 hours/day. Despite this, females show a similar susceptibility to stress and potential academic decline with high screen times, indicating that both genders might be at risk from excessive screen usage.\n",
            "\n",
            "4. **Age-Related Variations:** Younger individuals (15-20 years) seem to have higher screen times, which correlate with medium stress levels and mixed academic outcomes. Older students and young adults (21-26 years) also demonstrate high screen times, but with a clearer pattern of stress and declining academic performance.\n",
            "\n",
            "**Limitations:**\n",
            "\n",
            "The dataset lacks comprehensive information on other variables that could influence stress and academic performance, such as socioeconomic status, mental health history, and the type of screen activities (educational vs. recreational). Additionally, the sample size is not large enough to generalize findings across broader populations, and the data collection method is unclear (e.g., self-reported screen time).\n",
            "\n",
            "**Insights and Recommendations:**\n",
            "\n",
            "1. **Intervention Focus:** Given the potential negative impact of high screen times on stress and academic performance, interventions targeting screen time management could be beneficial, particularly for students and young adults.\n",
            "\n",
            "2. **Policy Considerations:** Educational institutions and policymakers should consider developing guidelines or programs to promote bal\n"
          ]
        }
      ]
    },
    {
      "cell_type": "code",
      "source": [
        "# Set model parameters for prompting with default values\n",
        "parameters = {\n",
        "    \"top_k\": 0,\n",
        "    \"top_p\": 0,\n",
        "    \"max_tokens\": 1024,\n",
        "    \"min_tokens\": 0,\n",
        "    \"random_seed\": None,\n",
        "    \"repetition_penalty\": 1.0,\n",
        "    \"stopping_criteria\": \"length (512 tokens)\",\n",
        "    \"stopping_sequence\": 1024\n",
        "}\n",
        "# Refined prompt for actionable recommendations\n",
        "refined_prompt = f\"\"\"\n",
        "You are an AI wellness advisor and data analyst. Based on the following dataset, provide **evidence-based and actionable recommendations** to help reduce student anxiety (\"Anxious Before Exams\").\n",
        "\n",
        "Steps:\n",
        "Based on the differences, give **at least 3 practical suggestions** that students can follow to reduce anxiety levels. Support each suggestion with brief reasoning from the data.\n",
        "\n",
        "Here is the dataset:\n",
        "{table_text}\n",
        "\"\"\"\n",
        "\n",
        "# Invoke the model with the prompt and parameters\n",
        "response = output.invoke(refined_prompt, parameters=parameters)\n",
        "\n",
        "# Print the result\n",
        "print(\"Recommendations to Reduce Anxiety:\\n\")\n",
        "print(response)"
      ],
      "metadata": {
        "colab": {
          "base_uri": "https://localhost:8080/"
        },
        "id": "ah49GWMIZnK9",
        "outputId": "77fd7aa7-952e-48ea-cdd5-de16ec2cf811"
      },
      "execution_count": 81,
      "outputs": [
        {
          "output_type": "stream",
          "name": "stdout",
          "text": [
            "Recommendations to Reduce Anxiety:\n",
            "\n",
            "### Evidence-Based Recommendations to Reduce Student Anxiety (\"Anxious Before Exams\")\n",
            "\n",
            "Based on the dataset provided, here are three practical suggestions to help students reduce anxiety levels, supported by observations from the data:\n",
            "\n",
            "1. **Prioritize Sleep**: The data suggests that students who get more sleep (7.2 hrs or more) tend to have lower anxiety levels (\"Anxious Before Exams\") and better academic performance. For instance, individuals with 7.2 hours of sleep or more (e.g., Male, 22, BSc; Female, 15, Class 8) show either no anxiety or improved performance, whereas those with less sleep often exhibit higher anxiety or declining academic performance. **Recommendation**: Encourage students to establish a regular sleep schedule, create a conducive sleep environment, and avoid screens before bedtime to enhance sleep quality.\n",
            "\n",
            "2. **Engage in Regular Physical Activity**: Students with higher physical activity levels (4.2 hrs or more per week) demonstrate lower anxiety levels and improved academic performance. Examples include Male, 17, Class 11 (9.1 hours) and Female, 15, Class 8 (10 hours). **Recommendation**: Promote the integration of physical exercise into daily routines, whether through sports, gym activities, or even walking. This can help reduce stress hormones and increase the production of endorphins, which are natural mood lifters.\n",
            "\n",
            "3. **Manage Screen Time**: Excessive screen time (8.0 hrs/day or more) correlates with higher anxiety levels and sometimes poorer academic performance. Students with high screen times, such as Male, 25, MA (10.5 hrs) and Female, 16, Class 10 (10.4 hrs), often report higher anxiety, even if their academic performance remains unchanged. **Recommendation**: Advise students to set limits on daily screen time, take regular breaks from digital devices, and engage in offline activities or hobbies to mitigate the adverse effects of excessive screen use on mental health.\n",
            "\n",
            "These recommendations are grounded in the dataset's patterns and are supported by established research on stress management and mental well-being. Implementing these\n"
          ]
        }
      ]
    }
  ]
}